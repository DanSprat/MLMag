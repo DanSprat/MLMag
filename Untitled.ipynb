{
 "cells": [
  {
   "cell_type": "code",
   "execution_count": 38,
   "id": "81a53266",
   "metadata": {},
   "outputs": [],
   "source": [
    "import numpy as np              # Массивы (матрицы, векторы, линейная алгебра)\n",
    "import matplotlib.pyplot as plt # Научная графика\n",
    "%matplotlib inline \n",
    "    # Говорим jupyter'у, чтобы весь графический вывод был в браузере, а не в отдельном окне\n",
    "import pandas as pd             # Таблицы и временные ряды (dataframe, series)\n",
    "import seaborn as sns           # Еще больше красивой графики для визуализации данных\n",
    "import sklearn                  # Алгоритмы машинного обучения\n",
    "import tqdm\n",
    "from sklearn.metrics import accuracy_score"
   ]
  },
  {
   "cell_type": "markdown",
   "id": "ef779612",
   "metadata": {},
   "source": [
    "В датасете представлены данные страховых компаний по страхованию автомобилей. Задача определить наступит ли страховой случай."
   ]
  },
  {
   "cell_type": "code",
   "execution_count": 2,
   "id": "f405f7d5",
   "metadata": {
    "scrolled": true
   },
   "outputs": [
    {
     "data": {
      "text/html": [
       "<div>\n",
       "<style scoped>\n",
       "    .dataframe tbody tr th:only-of-type {\n",
       "        vertical-align: middle;\n",
       "    }\n",
       "\n",
       "    .dataframe tbody tr th {\n",
       "        vertical-align: top;\n",
       "    }\n",
       "\n",
       "    .dataframe thead th {\n",
       "        text-align: right;\n",
       "    }\n",
       "</style>\n",
       "<table border=\"1\" class=\"dataframe\">\n",
       "  <thead>\n",
       "    <tr style=\"text-align: right;\">\n",
       "      <th></th>\n",
       "      <th>ID</th>\n",
       "      <th>AGE</th>\n",
       "      <th>GENDER</th>\n",
       "      <th>RACE</th>\n",
       "      <th>DRIVING_EXPERIENCE</th>\n",
       "      <th>EDUCATION</th>\n",
       "      <th>INCOME</th>\n",
       "      <th>CREDIT_SCORE</th>\n",
       "      <th>VEHICLE_OWNERSHIP</th>\n",
       "      <th>VEHICLE_YEAR</th>\n",
       "      <th>MARRIED</th>\n",
       "      <th>CHILDREN</th>\n",
       "      <th>POSTAL_CODE</th>\n",
       "      <th>ANNUAL_MILEAGE</th>\n",
       "      <th>VEHICLE_TYPE</th>\n",
       "      <th>SPEEDING_VIOLATIONS</th>\n",
       "      <th>DUIS</th>\n",
       "      <th>PAST_ACCIDENTS</th>\n",
       "      <th>OUTCOME</th>\n",
       "    </tr>\n",
       "  </thead>\n",
       "  <tbody>\n",
       "    <tr>\n",
       "      <th>0</th>\n",
       "      <td>569520</td>\n",
       "      <td>65+</td>\n",
       "      <td>female</td>\n",
       "      <td>majority</td>\n",
       "      <td>0-9y</td>\n",
       "      <td>high school</td>\n",
       "      <td>upper class</td>\n",
       "      <td>0.629027</td>\n",
       "      <td>1.0</td>\n",
       "      <td>after 2015</td>\n",
       "      <td>0.0</td>\n",
       "      <td>1.0</td>\n",
       "      <td>10238</td>\n",
       "      <td>12000.0</td>\n",
       "      <td>sedan</td>\n",
       "      <td>0</td>\n",
       "      <td>0</td>\n",
       "      <td>0</td>\n",
       "      <td>0.0</td>\n",
       "    </tr>\n",
       "    <tr>\n",
       "      <th>1</th>\n",
       "      <td>750365</td>\n",
       "      <td>16-25</td>\n",
       "      <td>male</td>\n",
       "      <td>majority</td>\n",
       "      <td>0-9y</td>\n",
       "      <td>none</td>\n",
       "      <td>poverty</td>\n",
       "      <td>0.357757</td>\n",
       "      <td>0.0</td>\n",
       "      <td>before 2015</td>\n",
       "      <td>0.0</td>\n",
       "      <td>0.0</td>\n",
       "      <td>10238</td>\n",
       "      <td>16000.0</td>\n",
       "      <td>sedan</td>\n",
       "      <td>0</td>\n",
       "      <td>0</td>\n",
       "      <td>0</td>\n",
       "      <td>1.0</td>\n",
       "    </tr>\n",
       "    <tr>\n",
       "      <th>2</th>\n",
       "      <td>199901</td>\n",
       "      <td>16-25</td>\n",
       "      <td>female</td>\n",
       "      <td>majority</td>\n",
       "      <td>0-9y</td>\n",
       "      <td>high school</td>\n",
       "      <td>working class</td>\n",
       "      <td>0.493146</td>\n",
       "      <td>1.0</td>\n",
       "      <td>before 2015</td>\n",
       "      <td>0.0</td>\n",
       "      <td>0.0</td>\n",
       "      <td>10238</td>\n",
       "      <td>11000.0</td>\n",
       "      <td>sedan</td>\n",
       "      <td>0</td>\n",
       "      <td>0</td>\n",
       "      <td>0</td>\n",
       "      <td>0.0</td>\n",
       "    </tr>\n",
       "    <tr>\n",
       "      <th>3</th>\n",
       "      <td>478866</td>\n",
       "      <td>16-25</td>\n",
       "      <td>male</td>\n",
       "      <td>majority</td>\n",
       "      <td>0-9y</td>\n",
       "      <td>university</td>\n",
       "      <td>working class</td>\n",
       "      <td>0.206013</td>\n",
       "      <td>1.0</td>\n",
       "      <td>before 2015</td>\n",
       "      <td>0.0</td>\n",
       "      <td>1.0</td>\n",
       "      <td>32765</td>\n",
       "      <td>11000.0</td>\n",
       "      <td>sedan</td>\n",
       "      <td>0</td>\n",
       "      <td>0</td>\n",
       "      <td>0</td>\n",
       "      <td>0.0</td>\n",
       "    </tr>\n",
       "    <tr>\n",
       "      <th>4</th>\n",
       "      <td>731664</td>\n",
       "      <td>26-39</td>\n",
       "      <td>male</td>\n",
       "      <td>majority</td>\n",
       "      <td>10-19y</td>\n",
       "      <td>none</td>\n",
       "      <td>working class</td>\n",
       "      <td>0.388366</td>\n",
       "      <td>1.0</td>\n",
       "      <td>before 2015</td>\n",
       "      <td>0.0</td>\n",
       "      <td>0.0</td>\n",
       "      <td>32765</td>\n",
       "      <td>12000.0</td>\n",
       "      <td>sedan</td>\n",
       "      <td>2</td>\n",
       "      <td>0</td>\n",
       "      <td>1</td>\n",
       "      <td>1.0</td>\n",
       "    </tr>\n",
       "  </tbody>\n",
       "</table>\n",
       "</div>"
      ],
      "text/plain": [
       "       ID    AGE  GENDER      RACE DRIVING_EXPERIENCE    EDUCATION  \\\n",
       "0  569520    65+  female  majority               0-9y  high school   \n",
       "1  750365  16-25    male  majority               0-9y         none   \n",
       "2  199901  16-25  female  majority               0-9y  high school   \n",
       "3  478866  16-25    male  majority               0-9y   university   \n",
       "4  731664  26-39    male  majority             10-19y         none   \n",
       "\n",
       "          INCOME  CREDIT_SCORE  VEHICLE_OWNERSHIP VEHICLE_YEAR  MARRIED  \\\n",
       "0    upper class      0.629027                1.0   after 2015      0.0   \n",
       "1        poverty      0.357757                0.0  before 2015      0.0   \n",
       "2  working class      0.493146                1.0  before 2015      0.0   \n",
       "3  working class      0.206013                1.0  before 2015      0.0   \n",
       "4  working class      0.388366                1.0  before 2015      0.0   \n",
       "\n",
       "   CHILDREN  POSTAL_CODE  ANNUAL_MILEAGE VEHICLE_TYPE  SPEEDING_VIOLATIONS  \\\n",
       "0       1.0        10238         12000.0        sedan                    0   \n",
       "1       0.0        10238         16000.0        sedan                    0   \n",
       "2       0.0        10238         11000.0        sedan                    0   \n",
       "3       1.0        32765         11000.0        sedan                    0   \n",
       "4       0.0        32765         12000.0        sedan                    2   \n",
       "\n",
       "   DUIS  PAST_ACCIDENTS  OUTCOME  \n",
       "0     0               0      0.0  \n",
       "1     0               0      1.0  \n",
       "2     0               0      0.0  \n",
       "3     0               0      0.0  \n",
       "4     0               1      1.0  "
      ]
     },
     "execution_count": 2,
     "metadata": {},
     "output_type": "execute_result"
    }
   ],
   "source": [
    "path = r\"Car_Insurance_Claim.csv\"\n",
    "data = pd.read_csv(path)\n",
    "data.head()"
   ]
  },
  {
   "cell_type": "markdown",
   "id": "c71f2e16",
   "metadata": {},
   "source": [
    "В датасете представлена выборка из 10000 объектов, состоящих из 19 признаков:\n",
    "\n",
    "<ul>\n",
    " <li>ID - индентификатор водителя\n",
    "<li>AGE - возраст</li>\n",
    "<li>GENDER - пол\n",
    "<li>RACE - стиль вождения\n",
    "<li>DRIVING_EXPERIENCE - опыт вождения\n",
    "<li>EDUCATION - образование\n",
    "<li>INCOME - уровень дохода\n",
    "<li>CREDIT_SCORE - кредитный рейтинг\n",
    "<li>VEHICLE_OWNERSHIP - владение транспортным средством\n",
    "<li>VEHICLE_YEAR - год выпуска транспортного средства\n",
    "<li>MARRIED - нахождение в браке\n",
    "<li>CHILDREN - наличие детей\n",
    "<li>POSTAL_CODE - почтовый индекс\n",
    "<li>ANNUAL_MILEAGE - годовой пробег\n",
    "<li>VEHICLE_TYPE - тип транспортного средства\n",
    "<li>SPEEDING_VIOLATIONS - количество превышений скорости\n",
    "<li>DUIS - количество нарушений, связанных с вождением в нетрезвом виде\n",
    "<li>PAST_ACCIDENTS - количество предыдущих инцидентов\n",
    "<li>OUTCOME - исход (0 - не требуется страховая выплата, 1 - требуется)\n",
    " </ul>\n",
    "\n"
   ]
  },
  {
   "cell_type": "markdown",
   "id": "db04d2f3",
   "metadata": {},
   "source": [
    "Можем избавиться от колонок с названиями ID и POSTAL_CODE. Они никак не влияют на наступление или отсутсвие стархового случая."
   ]
  },
  {
   "cell_type": "code",
   "execution_count": 3,
   "id": "e3cbb8c4",
   "metadata": {},
   "outputs": [
    {
     "data": {
      "text/plain": [
       "AGE                     object\n",
       "GENDER                  object\n",
       "RACE                    object\n",
       "DRIVING_EXPERIENCE      object\n",
       "EDUCATION               object\n",
       "INCOME                  object\n",
       "CREDIT_SCORE           float64\n",
       "VEHICLE_OWNERSHIP      float64\n",
       "VEHICLE_YEAR            object\n",
       "MARRIED                float64\n",
       "CHILDREN               float64\n",
       "ANNUAL_MILEAGE         float64\n",
       "VEHICLE_TYPE            object\n",
       "SPEEDING_VIOLATIONS      int64\n",
       "DUIS                     int64\n",
       "PAST_ACCIDENTS           int64\n",
       "OUTCOME                float64\n",
       "dtype: object"
      ]
     },
     "execution_count": 3,
     "metadata": {},
     "output_type": "execute_result"
    }
   ],
   "source": [
    "del data['POSTAL_CODE']\n",
    "del data['ID']\n",
    "data.dtypes\n"
   ]
  },
  {
   "cell_type": "markdown",
   "id": "1645cbef",
   "metadata": {},
   "source": [
    "Как можно заметить имются признаки типа object, приведем их к категориальному типу."
   ]
  },
  {
   "cell_type": "code",
   "execution_count": 4,
   "id": "3d8c9839",
   "metadata": {},
   "outputs": [
    {
     "data": {
      "text/plain": [
       "AGE                    category\n",
       "GENDER                 category\n",
       "RACE                   category\n",
       "DRIVING_EXPERIENCE     category\n",
       "EDUCATION              category\n",
       "INCOME                 category\n",
       "CREDIT_SCORE            float64\n",
       "VEHICLE_OWNERSHIP       float64\n",
       "VEHICLE_YEAR           category\n",
       "MARRIED                 float64\n",
       "CHILDREN                float64\n",
       "ANNUAL_MILEAGE          float64\n",
       "VEHICLE_TYPE           category\n",
       "SPEEDING_VIOLATIONS       int64\n",
       "DUIS                      int64\n",
       "PAST_ACCIDENTS            int64\n",
       "OUTCOME                 float64\n",
       "dtype: object"
      ]
     },
     "execution_count": 4,
     "metadata": {},
     "output_type": "execute_result"
    }
   ],
   "source": [
    "data['VEHICLE_YEAR'] = data['VEHICLE_YEAR'].astype('category')\n",
    "data['DRIVING_EXPERIENCE'] = data['DRIVING_EXPERIENCE'].astype('category')\n",
    "data['INCOME'] = data['INCOME'].astype('category')\n",
    "data['VEHICLE_TYPE'] = data['VEHICLE_TYPE'].astype('category')\n",
    "data['EDUCATION'] = data['EDUCATION'].astype('category')\n",
    "data['RACE'] = data['RACE'].astype('category')\n",
    "data['AGE'] = data['AGE'].astype('category')\n",
    "data['GENDER'] = data['GENDER'].astype('category')\n",
    "data.dtypes"
   ]
  },
  {
   "cell_type": "markdown",
   "id": "1adf0f5b",
   "metadata": {},
   "source": [
    "<h1>Визуализация данных и вычисление основных характеристикa </h1>"
   ]
  },
  {
   "cell_type": "markdown",
   "id": "f85e609f",
   "metadata": {},
   "source": [
    "Получим сводную информацию о количественных признаках. Найдем средние значения, стандартное отклонение, минимальное и макимальное значения, медиану и значения квартилей:"
   ]
  },
  {
   "cell_type": "code",
   "execution_count": 5,
   "id": "554fb024",
   "metadata": {},
   "outputs": [
    {
     "data": {
      "text/html": [
       "<div>\n",
       "<style scoped>\n",
       "    .dataframe tbody tr th:only-of-type {\n",
       "        vertical-align: middle;\n",
       "    }\n",
       "\n",
       "    .dataframe tbody tr th {\n",
       "        vertical-align: top;\n",
       "    }\n",
       "\n",
       "    .dataframe thead th {\n",
       "        text-align: right;\n",
       "    }\n",
       "</style>\n",
       "<table border=\"1\" class=\"dataframe\">\n",
       "  <thead>\n",
       "    <tr style=\"text-align: right;\">\n",
       "      <th></th>\n",
       "      <th>CREDIT_SCORE</th>\n",
       "      <th>VEHICLE_OWNERSHIP</th>\n",
       "      <th>MARRIED</th>\n",
       "      <th>CHILDREN</th>\n",
       "      <th>ANNUAL_MILEAGE</th>\n",
       "      <th>SPEEDING_VIOLATIONS</th>\n",
       "      <th>DUIS</th>\n",
       "      <th>PAST_ACCIDENTS</th>\n",
       "      <th>OUTCOME</th>\n",
       "    </tr>\n",
       "  </thead>\n",
       "  <tbody>\n",
       "    <tr>\n",
       "      <th>count</th>\n",
       "      <td>9018.000000</td>\n",
       "      <td>10000.000000</td>\n",
       "      <td>10000.000000</td>\n",
       "      <td>10000.000000</td>\n",
       "      <td>9043.000000</td>\n",
       "      <td>10000.000000</td>\n",
       "      <td>10000.00000</td>\n",
       "      <td>10000.000000</td>\n",
       "      <td>10000.000000</td>\n",
       "    </tr>\n",
       "    <tr>\n",
       "      <th>mean</th>\n",
       "      <td>0.515813</td>\n",
       "      <td>0.697000</td>\n",
       "      <td>0.498200</td>\n",
       "      <td>0.688800</td>\n",
       "      <td>11697.003207</td>\n",
       "      <td>1.482900</td>\n",
       "      <td>0.23920</td>\n",
       "      <td>1.056300</td>\n",
       "      <td>0.313300</td>\n",
       "    </tr>\n",
       "    <tr>\n",
       "      <th>std</th>\n",
       "      <td>0.137688</td>\n",
       "      <td>0.459578</td>\n",
       "      <td>0.500022</td>\n",
       "      <td>0.463008</td>\n",
       "      <td>2818.434528</td>\n",
       "      <td>2.241966</td>\n",
       "      <td>0.55499</td>\n",
       "      <td>1.652454</td>\n",
       "      <td>0.463858</td>\n",
       "    </tr>\n",
       "    <tr>\n",
       "      <th>min</th>\n",
       "      <td>0.053358</td>\n",
       "      <td>0.000000</td>\n",
       "      <td>0.000000</td>\n",
       "      <td>0.000000</td>\n",
       "      <td>2000.000000</td>\n",
       "      <td>0.000000</td>\n",
       "      <td>0.00000</td>\n",
       "      <td>0.000000</td>\n",
       "      <td>0.000000</td>\n",
       "    </tr>\n",
       "    <tr>\n",
       "      <th>25%</th>\n",
       "      <td>0.417191</td>\n",
       "      <td>0.000000</td>\n",
       "      <td>0.000000</td>\n",
       "      <td>0.000000</td>\n",
       "      <td>10000.000000</td>\n",
       "      <td>0.000000</td>\n",
       "      <td>0.00000</td>\n",
       "      <td>0.000000</td>\n",
       "      <td>0.000000</td>\n",
       "    </tr>\n",
       "    <tr>\n",
       "      <th>50%</th>\n",
       "      <td>0.525033</td>\n",
       "      <td>1.000000</td>\n",
       "      <td>0.000000</td>\n",
       "      <td>1.000000</td>\n",
       "      <td>12000.000000</td>\n",
       "      <td>0.000000</td>\n",
       "      <td>0.00000</td>\n",
       "      <td>0.000000</td>\n",
       "      <td>0.000000</td>\n",
       "    </tr>\n",
       "    <tr>\n",
       "      <th>75%</th>\n",
       "      <td>0.618312</td>\n",
       "      <td>1.000000</td>\n",
       "      <td>1.000000</td>\n",
       "      <td>1.000000</td>\n",
       "      <td>14000.000000</td>\n",
       "      <td>2.000000</td>\n",
       "      <td>0.00000</td>\n",
       "      <td>2.000000</td>\n",
       "      <td>1.000000</td>\n",
       "    </tr>\n",
       "    <tr>\n",
       "      <th>max</th>\n",
       "      <td>0.960819</td>\n",
       "      <td>1.000000</td>\n",
       "      <td>1.000000</td>\n",
       "      <td>1.000000</td>\n",
       "      <td>22000.000000</td>\n",
       "      <td>22.000000</td>\n",
       "      <td>6.00000</td>\n",
       "      <td>15.000000</td>\n",
       "      <td>1.000000</td>\n",
       "    </tr>\n",
       "  </tbody>\n",
       "</table>\n",
       "</div>"
      ],
      "text/plain": [
       "       CREDIT_SCORE  VEHICLE_OWNERSHIP       MARRIED      CHILDREN  \\\n",
       "count   9018.000000       10000.000000  10000.000000  10000.000000   \n",
       "mean       0.515813           0.697000      0.498200      0.688800   \n",
       "std        0.137688           0.459578      0.500022      0.463008   \n",
       "min        0.053358           0.000000      0.000000      0.000000   \n",
       "25%        0.417191           0.000000      0.000000      0.000000   \n",
       "50%        0.525033           1.000000      0.000000      1.000000   \n",
       "75%        0.618312           1.000000      1.000000      1.000000   \n",
       "max        0.960819           1.000000      1.000000      1.000000   \n",
       "\n",
       "       ANNUAL_MILEAGE  SPEEDING_VIOLATIONS         DUIS  PAST_ACCIDENTS  \\\n",
       "count     9043.000000         10000.000000  10000.00000    10000.000000   \n",
       "mean     11697.003207             1.482900      0.23920        1.056300   \n",
       "std       2818.434528             2.241966      0.55499        1.652454   \n",
       "min       2000.000000             0.000000      0.00000        0.000000   \n",
       "25%      10000.000000             0.000000      0.00000        0.000000   \n",
       "50%      12000.000000             0.000000      0.00000        0.000000   \n",
       "75%      14000.000000             2.000000      0.00000        2.000000   \n",
       "max      22000.000000            22.000000      6.00000       15.000000   \n",
       "\n",
       "            OUTCOME  \n",
       "count  10000.000000  \n",
       "mean       0.313300  \n",
       "std        0.463858  \n",
       "min        0.000000  \n",
       "25%        0.000000  \n",
       "50%        0.000000  \n",
       "75%        1.000000  \n",
       "max        1.000000  "
      ]
     },
     "execution_count": 5,
     "metadata": {},
     "output_type": "execute_result"
    }
   ],
   "source": [
    "data.describe()"
   ]
  },
  {
   "cell_type": "markdown",
   "id": "7b055569",
   "metadata": {},
   "source": [
    "Выводы: Максимальное количество превышений скорости на одного человека = 22, максимальное количество вождений в нетрезвом виде = 6 и максимальное число попадания в ситуации, предусмотренные страховкой, = 15. Самый высокий кредитный рейтинг = 0.96."
   ]
  },
  {
   "cell_type": "code",
   "execution_count": 6,
   "id": "eeafffac",
   "metadata": {},
   "outputs": [
    {
     "data": {
      "text/html": [
       "<div>\n",
       "<style scoped>\n",
       "    .dataframe tbody tr th:only-of-type {\n",
       "        vertical-align: middle;\n",
       "    }\n",
       "\n",
       "    .dataframe tbody tr th {\n",
       "        vertical-align: top;\n",
       "    }\n",
       "\n",
       "    .dataframe thead th {\n",
       "        text-align: right;\n",
       "    }\n",
       "</style>\n",
       "<table border=\"1\" class=\"dataframe\">\n",
       "  <thead>\n",
       "    <tr style=\"text-align: right;\">\n",
       "      <th></th>\n",
       "      <th>AGE</th>\n",
       "      <th>GENDER</th>\n",
       "      <th>RACE</th>\n",
       "      <th>DRIVING_EXPERIENCE</th>\n",
       "      <th>EDUCATION</th>\n",
       "      <th>INCOME</th>\n",
       "      <th>VEHICLE_YEAR</th>\n",
       "      <th>VEHICLE_TYPE</th>\n",
       "    </tr>\n",
       "  </thead>\n",
       "  <tbody>\n",
       "    <tr>\n",
       "      <th>count</th>\n",
       "      <td>10000</td>\n",
       "      <td>10000</td>\n",
       "      <td>10000</td>\n",
       "      <td>10000</td>\n",
       "      <td>10000</td>\n",
       "      <td>10000</td>\n",
       "      <td>10000</td>\n",
       "      <td>10000</td>\n",
       "    </tr>\n",
       "    <tr>\n",
       "      <th>unique</th>\n",
       "      <td>4</td>\n",
       "      <td>2</td>\n",
       "      <td>2</td>\n",
       "      <td>4</td>\n",
       "      <td>3</td>\n",
       "      <td>4</td>\n",
       "      <td>2</td>\n",
       "      <td>2</td>\n",
       "    </tr>\n",
       "    <tr>\n",
       "      <th>top</th>\n",
       "      <td>26-39</td>\n",
       "      <td>female</td>\n",
       "      <td>majority</td>\n",
       "      <td>0-9y</td>\n",
       "      <td>high school</td>\n",
       "      <td>upper class</td>\n",
       "      <td>before 2015</td>\n",
       "      <td>sedan</td>\n",
       "    </tr>\n",
       "    <tr>\n",
       "      <th>freq</th>\n",
       "      <td>3063</td>\n",
       "      <td>5010</td>\n",
       "      <td>9012</td>\n",
       "      <td>3530</td>\n",
       "      <td>4157</td>\n",
       "      <td>4336</td>\n",
       "      <td>6967</td>\n",
       "      <td>9523</td>\n",
       "    </tr>\n",
       "  </tbody>\n",
       "</table>\n",
       "</div>"
      ],
      "text/plain": [
       "          AGE  GENDER      RACE DRIVING_EXPERIENCE    EDUCATION       INCOME  \\\n",
       "count   10000   10000     10000              10000        10000        10000   \n",
       "unique      4       2         2                  4            3            4   \n",
       "top     26-39  female  majority               0-9y  high school  upper class   \n",
       "freq     3063    5010      9012               3530         4157         4336   \n",
       "\n",
       "       VEHICLE_YEAR VEHICLE_TYPE  \n",
       "count         10000        10000  \n",
       "unique            2            2  \n",
       "top     before 2015        sedan  \n",
       "freq           6967         9523  "
      ]
     },
     "execution_count": 6,
     "metadata": {},
     "output_type": "execute_result"
    }
   ],
   "source": [
    "data.describe(include=['category'])"
   ]
  },
  {
   "cell_type": "markdown",
   "id": "89b48ce9",
   "metadata": {},
   "source": [
    "По этой таблице можно увидеть,что большинство людей обратившихся за страховой выплатой в возрасте от 26 до 39 лет со стажем вождения от 0 до 9 лет. Наибольная часть из всех машин - седаны."
   ]
  },
  {
   "cell_type": "markdown",
   "id": "cec82f9a",
   "metadata": {},
   "source": [
    "Построим таблицу корреляции данных:"
   ]
  },
  {
   "cell_type": "code",
   "execution_count": 7,
   "id": "ebe378eb",
   "metadata": {},
   "outputs": [
    {
     "data": {
      "image/png": "[encoded data removed]",
      "text/plain": [
       "<Figure size 432x288 with 2 Axes>"
      ]
     },
     "metadata": {
      "needs_background": "light"
     },
     "output_type": "display_data"
    }
   ],
   "source": [
    "ax = sns.heatmap(data.corr(), annot=True)"
   ]
  },
  {
   "cell_type": "markdown",
   "id": "26ef5c94",
   "metadata": {},
   "source": [
    "Сильной корреляции между признаками не наблюдается "
   ]
  },
  {
   "cell_type": "markdown",
   "id": "f8f6445f",
   "metadata": {},
   "source": [
    "<h2>Обработка пропущенных значений</h2>"
   ]
  },
  {
   "cell_type": "markdown",
   "id": "896a7435",
   "metadata": {},
   "source": [
    "Найдем столбцы, в которых имеются пропущенные значения и количество таких значений:"
   ]
  },
  {
   "cell_type": "code",
   "execution_count": 8,
   "id": "cfdca341",
   "metadata": {},
   "outputs": [
    {
     "data": {
      "text/plain": [
       "AGE                      0\n",
       "GENDER                   0\n",
       "RACE                     0\n",
       "DRIVING_EXPERIENCE       0\n",
       "EDUCATION                0\n",
       "INCOME                   0\n",
       "CREDIT_SCORE           982\n",
       "VEHICLE_OWNERSHIP        0\n",
       "VEHICLE_YEAR             0\n",
       "MARRIED                  0\n",
       "CHILDREN                 0\n",
       "ANNUAL_MILEAGE         957\n",
       "VEHICLE_TYPE             0\n",
       "SPEEDING_VIOLATIONS      0\n",
       "DUIS                     0\n",
       "PAST_ACCIDENTS           0\n",
       "OUTCOME                  0\n",
       "dtype: int64"
      ]
     },
     "execution_count": 8,
     "metadata": {},
     "output_type": "execute_result"
    }
   ],
   "source": [
    "data.isna().sum()"
   ]
  },
  {
   "cell_type": "markdown",
   "id": "6b07ed01",
   "metadata": {},
   "source": [
    "Признаки с промущенными значениями - количественные. можем заполнить прупуски медианой"
   ]
  },
  {
   "cell_type": "code",
   "execution_count": 9,
   "id": "1799da94",
   "metadata": {},
   "outputs": [
    {
     "data": {
      "text/plain": [
       "AGE                    0\n",
       "GENDER                 0\n",
       "RACE                   0\n",
       "DRIVING_EXPERIENCE     0\n",
       "EDUCATION              0\n",
       "INCOME                 0\n",
       "CREDIT_SCORE           0\n",
       "VEHICLE_OWNERSHIP      0\n",
       "VEHICLE_YEAR           0\n",
       "MARRIED                0\n",
       "CHILDREN               0\n",
       "ANNUAL_MILEAGE         0\n",
       "VEHICLE_TYPE           0\n",
       "SPEEDING_VIOLATIONS    0\n",
       "DUIS                   0\n",
       "PAST_ACCIDENTS         0\n",
       "OUTCOME                0\n",
       "dtype: int64"
      ]
     },
     "execution_count": 9,
     "metadata": {},
     "output_type": "execute_result"
    }
   ],
   "source": [
    "data.fillna(data.median(axis = 0), axis=0 , inplace=True)\n",
    "data.isna().sum()"
   ]
  },
  {
   "cell_type": "markdown",
   "id": "8f12615c",
   "metadata": {},
   "source": [
    "<h2>Обработка категориальных признаков</h2>"
   ]
  },
  {
   "cell_type": "markdown",
   "id": "d6a276b8",
   "metadata": {},
   "source": [
    "Для дальнейшей обработки данных закодируем категориальные признаки с помощью числовых. К небинарным признакам 'AGE','GENDER','RACE','DRIVING_EXPERIENCE','EDUCATION','INCOME','VEHICLE_YEAR','VEHICLE_TYPE' применим метод бинаризации (one-hot encoding). Затем удалим ненужные столбцы."
   ]
  },
  {
   "cell_type": "code",
   "execution_count": 10,
   "id": "eee68979",
   "metadata": {},
   "outputs": [
    {
     "data": {
      "text/html": [
       "<div>\n",
       "<style scoped>\n",
       "    .dataframe tbody tr th:only-of-type {\n",
       "        vertical-align: middle;\n",
       "    }\n",
       "\n",
       "    .dataframe tbody tr th {\n",
       "        vertical-align: top;\n",
       "    }\n",
       "\n",
       "    .dataframe thead th {\n",
       "        text-align: right;\n",
       "    }\n",
       "</style>\n",
       "<table border=\"1\" class=\"dataframe\">\n",
       "  <thead>\n",
       "    <tr style=\"text-align: right;\">\n",
       "      <th></th>\n",
       "      <th>AGE_26-39</th>\n",
       "      <th>AGE_40-64</th>\n",
       "      <th>AGE_65+</th>\n",
       "      <th>GENDER_male</th>\n",
       "      <th>RACE_minority</th>\n",
       "      <th>DRIVING_EXPERIENCE_10-19y</th>\n",
       "      <th>DRIVING_EXPERIENCE_20-29y</th>\n",
       "      <th>DRIVING_EXPERIENCE_30y+</th>\n",
       "      <th>EDUCATION_none</th>\n",
       "      <th>EDUCATION_university</th>\n",
       "      <th>...</th>\n",
       "      <th>VEHICLE_TYPE_sports car</th>\n",
       "      <th>CREDIT_SCORE</th>\n",
       "      <th>VEHICLE_OWNERSHIP</th>\n",
       "      <th>MARRIED</th>\n",
       "      <th>CHILDREN</th>\n",
       "      <th>ANNUAL_MILEAGE</th>\n",
       "      <th>SPEEDING_VIOLATIONS</th>\n",
       "      <th>DUIS</th>\n",
       "      <th>PAST_ACCIDENTS</th>\n",
       "      <th>OUTCOME</th>\n",
       "    </tr>\n",
       "  </thead>\n",
       "  <tbody>\n",
       "    <tr>\n",
       "      <th>0</th>\n",
       "      <td>0</td>\n",
       "      <td>0</td>\n",
       "      <td>1</td>\n",
       "      <td>0</td>\n",
       "      <td>0</td>\n",
       "      <td>0</td>\n",
       "      <td>0</td>\n",
       "      <td>0</td>\n",
       "      <td>0</td>\n",
       "      <td>0</td>\n",
       "      <td>...</td>\n",
       "      <td>0</td>\n",
       "      <td>0.629027</td>\n",
       "      <td>1.0</td>\n",
       "      <td>0.0</td>\n",
       "      <td>1.0</td>\n",
       "      <td>12000.0</td>\n",
       "      <td>0</td>\n",
       "      <td>0</td>\n",
       "      <td>0</td>\n",
       "      <td>0.0</td>\n",
       "    </tr>\n",
       "    <tr>\n",
       "      <th>1</th>\n",
       "      <td>0</td>\n",
       "      <td>0</td>\n",
       "      <td>0</td>\n",
       "      <td>1</td>\n",
       "      <td>0</td>\n",
       "      <td>0</td>\n",
       "      <td>0</td>\n",
       "      <td>0</td>\n",
       "      <td>1</td>\n",
       "      <td>0</td>\n",
       "      <td>...</td>\n",
       "      <td>0</td>\n",
       "      <td>0.357757</td>\n",
       "      <td>0.0</td>\n",
       "      <td>0.0</td>\n",
       "      <td>0.0</td>\n",
       "      <td>16000.0</td>\n",
       "      <td>0</td>\n",
       "      <td>0</td>\n",
       "      <td>0</td>\n",
       "      <td>1.0</td>\n",
       "    </tr>\n",
       "    <tr>\n",
       "      <th>2</th>\n",
       "      <td>0</td>\n",
       "      <td>0</td>\n",
       "      <td>0</td>\n",
       "      <td>0</td>\n",
       "      <td>0</td>\n",
       "      <td>0</td>\n",
       "      <td>0</td>\n",
       "      <td>0</td>\n",
       "      <td>0</td>\n",
       "      <td>0</td>\n",
       "      <td>...</td>\n",
       "      <td>0</td>\n",
       "      <td>0.493146</td>\n",
       "      <td>1.0</td>\n",
       "      <td>0.0</td>\n",
       "      <td>0.0</td>\n",
       "      <td>11000.0</td>\n",
       "      <td>0</td>\n",
       "      <td>0</td>\n",
       "      <td>0</td>\n",
       "      <td>0.0</td>\n",
       "    </tr>\n",
       "    <tr>\n",
       "      <th>3</th>\n",
       "      <td>0</td>\n",
       "      <td>0</td>\n",
       "      <td>0</td>\n",
       "      <td>1</td>\n",
       "      <td>0</td>\n",
       "      <td>0</td>\n",
       "      <td>0</td>\n",
       "      <td>0</td>\n",
       "      <td>0</td>\n",
       "      <td>1</td>\n",
       "      <td>...</td>\n",
       "      <td>0</td>\n",
       "      <td>0.206013</td>\n",
       "      <td>1.0</td>\n",
       "      <td>0.0</td>\n",
       "      <td>1.0</td>\n",
       "      <td>11000.0</td>\n",
       "      <td>0</td>\n",
       "      <td>0</td>\n",
       "      <td>0</td>\n",
       "      <td>0.0</td>\n",
       "    </tr>\n",
       "    <tr>\n",
       "      <th>4</th>\n",
       "      <td>1</td>\n",
       "      <td>0</td>\n",
       "      <td>0</td>\n",
       "      <td>1</td>\n",
       "      <td>0</td>\n",
       "      <td>1</td>\n",
       "      <td>0</td>\n",
       "      <td>0</td>\n",
       "      <td>1</td>\n",
       "      <td>0</td>\n",
       "      <td>...</td>\n",
       "      <td>0</td>\n",
       "      <td>0.388366</td>\n",
       "      <td>1.0</td>\n",
       "      <td>0.0</td>\n",
       "      <td>0.0</td>\n",
       "      <td>12000.0</td>\n",
       "      <td>2</td>\n",
       "      <td>0</td>\n",
       "      <td>1</td>\n",
       "      <td>1.0</td>\n",
       "    </tr>\n",
       "    <tr>\n",
       "      <th>...</th>\n",
       "      <td>...</td>\n",
       "      <td>...</td>\n",
       "      <td>...</td>\n",
       "      <td>...</td>\n",
       "      <td>...</td>\n",
       "      <td>...</td>\n",
       "      <td>...</td>\n",
       "      <td>...</td>\n",
       "      <td>...</td>\n",
       "      <td>...</td>\n",
       "      <td>...</td>\n",
       "      <td>...</td>\n",
       "      <td>...</td>\n",
       "      <td>...</td>\n",
       "      <td>...</td>\n",
       "      <td>...</td>\n",
       "      <td>...</td>\n",
       "      <td>...</td>\n",
       "      <td>...</td>\n",
       "      <td>...</td>\n",
       "      <td>...</td>\n",
       "    </tr>\n",
       "    <tr>\n",
       "      <th>9995</th>\n",
       "      <td>1</td>\n",
       "      <td>0</td>\n",
       "      <td>0</td>\n",
       "      <td>0</td>\n",
       "      <td>0</td>\n",
       "      <td>1</td>\n",
       "      <td>0</td>\n",
       "      <td>0</td>\n",
       "      <td>0</td>\n",
       "      <td>1</td>\n",
       "      <td>...</td>\n",
       "      <td>0</td>\n",
       "      <td>0.582787</td>\n",
       "      <td>1.0</td>\n",
       "      <td>0.0</td>\n",
       "      <td>0.0</td>\n",
       "      <td>16000.0</td>\n",
       "      <td>0</td>\n",
       "      <td>0</td>\n",
       "      <td>1</td>\n",
       "      <td>0.0</td>\n",
       "    </tr>\n",
       "    <tr>\n",
       "      <th>9996</th>\n",
       "      <td>1</td>\n",
       "      <td>0</td>\n",
       "      <td>0</td>\n",
       "      <td>0</td>\n",
       "      <td>0</td>\n",
       "      <td>1</td>\n",
       "      <td>0</td>\n",
       "      <td>0</td>\n",
       "      <td>1</td>\n",
       "      <td>0</td>\n",
       "      <td>...</td>\n",
       "      <td>0</td>\n",
       "      <td>0.522231</td>\n",
       "      <td>1.0</td>\n",
       "      <td>0.0</td>\n",
       "      <td>1.0</td>\n",
       "      <td>12000.0</td>\n",
       "      <td>1</td>\n",
       "      <td>0</td>\n",
       "      <td>0</td>\n",
       "      <td>0.0</td>\n",
       "    </tr>\n",
       "    <tr>\n",
       "      <th>9997</th>\n",
       "      <td>1</td>\n",
       "      <td>0</td>\n",
       "      <td>0</td>\n",
       "      <td>1</td>\n",
       "      <td>0</td>\n",
       "      <td>0</td>\n",
       "      <td>0</td>\n",
       "      <td>0</td>\n",
       "      <td>0</td>\n",
       "      <td>0</td>\n",
       "      <td>...</td>\n",
       "      <td>0</td>\n",
       "      <td>0.470940</td>\n",
       "      <td>1.0</td>\n",
       "      <td>0.0</td>\n",
       "      <td>1.0</td>\n",
       "      <td>14000.0</td>\n",
       "      <td>0</td>\n",
       "      <td>0</td>\n",
       "      <td>0</td>\n",
       "      <td>0.0</td>\n",
       "    </tr>\n",
       "    <tr>\n",
       "      <th>9998</th>\n",
       "      <td>1</td>\n",
       "      <td>0</td>\n",
       "      <td>0</td>\n",
       "      <td>0</td>\n",
       "      <td>0</td>\n",
       "      <td>1</td>\n",
       "      <td>0</td>\n",
       "      <td>0</td>\n",
       "      <td>0</td>\n",
       "      <td>0</td>\n",
       "      <td>...</td>\n",
       "      <td>0</td>\n",
       "      <td>0.364185</td>\n",
       "      <td>0.0</td>\n",
       "      <td>0.0</td>\n",
       "      <td>1.0</td>\n",
       "      <td>13000.0</td>\n",
       "      <td>2</td>\n",
       "      <td>0</td>\n",
       "      <td>1</td>\n",
       "      <td>1.0</td>\n",
       "    </tr>\n",
       "    <tr>\n",
       "      <th>9999</th>\n",
       "      <td>1</td>\n",
       "      <td>0</td>\n",
       "      <td>0</td>\n",
       "      <td>0</td>\n",
       "      <td>0</td>\n",
       "      <td>0</td>\n",
       "      <td>0</td>\n",
       "      <td>0</td>\n",
       "      <td>1</td>\n",
       "      <td>0</td>\n",
       "      <td>...</td>\n",
       "      <td>0</td>\n",
       "      <td>0.435225</td>\n",
       "      <td>1.0</td>\n",
       "      <td>1.0</td>\n",
       "      <td>1.0</td>\n",
       "      <td>13000.0</td>\n",
       "      <td>0</td>\n",
       "      <td>0</td>\n",
       "      <td>0</td>\n",
       "      <td>0.0</td>\n",
       "    </tr>\n",
       "  </tbody>\n",
       "</table>\n",
       "<p>10000 rows × 24 columns</p>\n",
       "</div>"
      ],
      "text/plain": [
       "      AGE_26-39  AGE_40-64  AGE_65+  GENDER_male  RACE_minority  \\\n",
       "0             0          0        1            0              0   \n",
       "1             0          0        0            1              0   \n",
       "2             0          0        0            0              0   \n",
       "3             0          0        0            1              0   \n",
       "4             1          0        0            1              0   \n",
       "...         ...        ...      ...          ...            ...   \n",
       "9995          1          0        0            0              0   \n",
       "9996          1          0        0            0              0   \n",
       "9997          1          0        0            1              0   \n",
       "9998          1          0        0            0              0   \n",
       "9999          1          0        0            0              0   \n",
       "\n",
       "      DRIVING_EXPERIENCE_10-19y  DRIVING_EXPERIENCE_20-29y  \\\n",
       "0                             0                          0   \n",
       "1                             0                          0   \n",
       "2                             0                          0   \n",
       "3                             0                          0   \n",
       "4                             1                          0   \n",
       "...                         ...                        ...   \n",
       "9995                          1                          0   \n",
       "9996                          1                          0   \n",
       "9997                          0                          0   \n",
       "9998                          1                          0   \n",
       "9999                          0                          0   \n",
       "\n",
       "      DRIVING_EXPERIENCE_30y+  EDUCATION_none  EDUCATION_university  ...  \\\n",
       "0                           0               0                     0  ...   \n",
       "1                           0               1                     0  ...   \n",
       "2                           0               0                     0  ...   \n",
       "3                           0               0                     1  ...   \n",
       "4                           0               1                     0  ...   \n",
       "...                       ...             ...                   ...  ...   \n",
       "9995                        0               0                     1  ...   \n",
       "9996                        0               1                     0  ...   \n",
       "9997                        0               0                     0  ...   \n",
       "9998                        0               0                     0  ...   \n",
       "9999                        0               1                     0  ...   \n",
       "\n",
       "      VEHICLE_TYPE_sports car  CREDIT_SCORE  VEHICLE_OWNERSHIP  MARRIED  \\\n",
       "0                           0      0.629027                1.0      0.0   \n",
       "1                           0      0.357757                0.0      0.0   \n",
       "2                           0      0.493146                1.0      0.0   \n",
       "3                           0      0.206013                1.0      0.0   \n",
       "4                           0      0.388366                1.0      0.0   \n",
       "...                       ...           ...                ...      ...   \n",
       "9995                        0      0.582787                1.0      0.0   \n",
       "9996                        0      0.522231                1.0      0.0   \n",
       "9997                        0      0.470940                1.0      0.0   \n",
       "9998                        0      0.364185                0.0      0.0   \n",
       "9999                        0      0.435225                1.0      1.0   \n",
       "\n",
       "      CHILDREN  ANNUAL_MILEAGE  SPEEDING_VIOLATIONS  DUIS  PAST_ACCIDENTS  \\\n",
       "0          1.0         12000.0                    0     0               0   \n",
       "1          0.0         16000.0                    0     0               0   \n",
       "2          0.0         11000.0                    0     0               0   \n",
       "3          1.0         11000.0                    0     0               0   \n",
       "4          0.0         12000.0                    2     0               1   \n",
       "...        ...             ...                  ...   ...             ...   \n",
       "9995       0.0         16000.0                    0     0               1   \n",
       "9996       1.0         12000.0                    1     0               0   \n",
       "9997       1.0         14000.0                    0     0               0   \n",
       "9998       1.0         13000.0                    2     0               1   \n",
       "9999       1.0         13000.0                    0     0               0   \n",
       "\n",
       "      OUTCOME  \n",
       "0         0.0  \n",
       "1         1.0  \n",
       "2         0.0  \n",
       "3         0.0  \n",
       "4         1.0  \n",
       "...       ...  \n",
       "9995      0.0  \n",
       "9996      0.0  \n",
       "9997      0.0  \n",
       "9998      1.0  \n",
       "9999      0.0  \n",
       "\n",
       "[10000 rows x 24 columns]"
      ]
     },
     "execution_count": 10,
     "metadata": {},
     "output_type": "execute_result"
    }
   ],
   "source": [
    "cat_cols = ['AGE','GENDER','RACE','DRIVING_EXPERIENCE','EDUCATION','INCOME','VEHICLE_YEAR','VEHICLE_TYPE']\n",
    "\n",
    "data_dummies = pd.concat([pd.get_dummies(data[col], prefix=col, drop_first=True) for col in cat_cols], axis=1)\n",
    "data_onehot = pd.concat([data_dummies, data], axis=1)\n",
    "\n",
    "for col in cat_cols:\n",
    "    del data_onehot[col]\n",
    "\n",
    "data_onehot"
   ]
  },
  {
   "cell_type": "markdown",
   "id": "25668e7b",
   "metadata": {},
   "source": [
    "Равномерно разобьем данные по критерию 'OUTCOME' на обучающую и тестовую выборку в пропорции 4:1 (80% обучающей выборки, 20% - тестовой)."
   ]
  },
  {
   "cell_type": "code",
   "execution_count": 11,
   "id": "6bc39d85",
   "metadata": {},
   "outputs": [],
   "source": [
    "from sklearn.model_selection import StratifiedShuffleSplit\n",
    "\n",
    "split = StratifiedShuffleSplit(n_splits = 1, test_size = 0.2, random_state = 84)\n",
    "for train_index, test_index in split.split(data_onehot, data_onehot['OUTCOME']):\n",
    "    strat_train_set = data_onehot.loc[train_index]\n",
    "    strat_test_set = data_onehot.loc[test_index]\n",
    "    \n",
    "    \n",
    "X_strat_train_set = strat_train_set.drop('OUTCOME', axis = 1)\n",
    "Y_strat_train_set = strat_train_set['OUTCOME'].copy()\n",
    "\n",
    "X_strat_test_set = strat_test_set.drop('OUTCOME', axis = 1)\n",
    "Y_strat_test_set = strat_test_set['OUTCOME'].copy()"
   ]
  },
  {
   "cell_type": "markdown",
   "id": "14c886d1",
   "metadata": {},
   "source": [
    "<h2>Нормализация призанков</h2>"
   ]
  },
  {
   "cell_type": "markdown",
   "id": "2eb12cf6",
   "metadata": {},
   "source": [
    "Нормализация (normalization) и стандартизация (standardization) являются методами изменения диапазонов значений – шкалирования. Разные атрибуты могут измеряться в разных диапазонах, или значения одного атрибута варьируются слишком сильно. Например, один атрибут может имеет диапазон от 0 до 1, а второй — от 1 до 1000. Тогда второй атрибут оказывает большее влияние на обучение, хотя не факт, что он является более важным, чем первый.\n",
    "\n",
    "Нормализация подразумевает изменение диапазонов в данных без изменения формы распределения,\n",
    "\n",
    "Стандартизация изменяет форму распределения данных (приводится к нормальному распределению).\n",
    "\n",
    "В дальнейшем мы будем использовать алгоритм k ближайших соседей, основанный на измерении расстояний, в таких случаях лучше применять стандартизацию. Выполним стандартизацию всех признаков:"
   ]
  },
  {
   "cell_type": "code",
   "execution_count": 12,
   "id": "8714efa7",
   "metadata": {},
   "outputs": [],
   "source": [
    "from sklearn.pipeline import Pipeline\n",
    "from sklearn.impute import SimpleImputer\n",
    "from sklearn.preprocessing import MinMaxScaler\n",
    "\n",
    "num_pipeline = Pipeline([\n",
    " ('imputer', SimpleImputer(strategy=\"median\")),\n",
    " ('std_scaler', MinMaxScaler()),\n",
    " ])\n",
    "X_strat_train_set = num_pipeline.fit_transform(X_strat_train_set)\n",
    "X_strat_test_set = num_pipeline.fit_transform(X_strat_test_set)"
   ]
  },
  {
   "cell_type": "markdown",
   "id": "9714ea00",
   "metadata": {},
   "source": [
    "<h2>Классификатор</h2>"
   ]
  },
  {
   "cell_type": "markdown",
   "id": "1f054e2a",
   "metadata": {},
   "source": [
    "Проведем обучение с помощью k-nearest neighbors algorithm (k-NN) и вычислим ошибки на тестовой выборке:"
   ]
  },
  {
   "cell_type": "code",
   "execution_count": 13,
   "id": "119e3082",
   "metadata": {},
   "outputs": [
    {
     "data": {
      "text/plain": [
       "KNeighborsClassifier(n_neighbors=10)"
      ]
     },
     "execution_count": 13,
     "metadata": {},
     "output_type": "execute_result"
    }
   ],
   "source": [
    "from sklearn.neighbors import KNeighborsClassifier\n",
    "\n",
    "knn = KNeighborsClassifier(n_neighbors = 10)\n",
    "knn.fit(X_strat_train_set, Y_strat_train_set)"
   ]
  },
  {
   "cell_type": "code",
   "execution_count": 14,
   "id": "272d1f86",
   "metadata": {},
   "outputs": [
    {
     "name": "stderr",
     "output_type": "stream",
     "text": [
      "<ipython-input-14-505f6b0a751b>:7: DeprecationWarning: elementwise comparison failed; this will raise an error in the future.\n",
      "  np.mean(Y_strat_test_set != Y_test_predict), np.mean(X_strat_train_set != Y_train_predict)\n"
     ]
    },
    {
     "data": {
      "text/plain": [
       "(0.194, 1.0)"
      ]
     },
     "execution_count": 14,
     "metadata": {},
     "output_type": "execute_result"
    }
   ],
   "source": [
    "Y_test_predict = knn.predict(X_strat_test_set)\n",
    "Y_train_predict = knn.predict(X_strat_train_set)\n",
    "from sklearn.metrics import confusion_matrix\n",
    "\n",
    "confusion_matrix(Y_strat_test_set, Y_test_predict)\n",
    "\n",
    "np.mean(Y_strat_test_set != Y_test_predict), np.mean(X_strat_train_set != Y_train_predict)"
   ]
  },
  {
   "cell_type": "code",
   "execution_count": 15,
   "id": "3bfdd49c",
   "metadata": {},
   "outputs": [
    {
     "data": {
      "text/plain": [
       "(0.189, 0.149625)"
      ]
     },
     "execution_count": 15,
     "metadata": {},
     "output_type": "execute_result"
    }
   ],
   "source": [
    "knn = KNeighborsClassifier(n_neighbors = 11)\n",
    "knn.fit(X_strat_train_set, Y_strat_train_set)\n",
    "Y_test_predict = knn.predict(X_strat_test_set)\n",
    "Y_train_predict = knn.predict(X_strat_train_set)\n",
    "confusion_matrix(Y_strat_test_set, Y_test_predict)\n",
    "\n",
    "np.mean(Y_strat_test_set != Y_test_predict), np.mean(Y_strat_train_set != Y_train_predict)"
   ]
  },
  {
   "cell_type": "code",
   "execution_count": 16,
   "id": "addcf106",
   "metadata": {},
   "outputs": [
    {
     "data": {
      "text/plain": [
       "(0.1945, 0.1415)"
      ]
     },
     "execution_count": 16,
     "metadata": {},
     "output_type": "execute_result"
    }
   ],
   "source": [
    "knn = KNeighborsClassifier(n_neighbors = 7)\n",
    "knn.fit(X_strat_train_set, Y_strat_train_set)\n",
    "Y_test_predict = knn.predict(X_strat_test_set)\n",
    "Y_train_predict = knn.predict(X_strat_train_set)\n",
    "confusion_matrix(Y_strat_test_set, Y_test_predict)\n",
    "\n",
    "np.mean(Y_strat_test_set != Y_test_predict), np.mean(Y_strat_train_set != Y_train_predict)"
   ]
  },
  {
   "cell_type": "code",
   "execution_count": 17,
   "id": "f60f5b3f",
   "metadata": {},
   "outputs": [
    {
     "data": {
      "text/plain": [
       "(0.1845, 0.164375)"
      ]
     },
     "execution_count": 17,
     "metadata": {},
     "output_type": "execute_result"
    }
   ],
   "source": [
    "knn = KNeighborsClassifier(n_neighbors = 34)\n",
    "knn.fit(X_strat_train_set, Y_strat_train_set)\n",
    "Y_test_predict = knn.predict(X_strat_test_set)\n",
    "Y_train_predict = knn.predict(X_strat_train_set)\n",
    "confusion_matrix(Y_strat_test_set, Y_test_predict)\n",
    "\n",
    "np.mean(Y_strat_test_set != Y_test_predict), np.mean(Y_strat_train_set != Y_train_predict)"
   ]
  },
  {
   "cell_type": "markdown",
   "id": "4411fe01",
   "metadata": {},
   "source": [
    "Путем подбора оптимальных параметров метода и предварительной обработки данных, был получен процент ошибок на тестовой выборке: 18.45%.\n"
   ]
  },
  {
   "cell_type": "markdown",
   "id": "39d145c9",
   "metadata": {},
   "source": [
    "В наступлении страхового случая высока доля случайности. Что доказывает наш результат: ошибка 18%. Возможное улучшение результатов: расширение числа признаков или исплользование другого метода."
   ]
  },
  {
   "cell_type": "markdown",
   "id": "f3139309",
   "metadata": {},
   "source": [
    "# Обучение полносвязной нейронной сети\n",
    "## 1 скрытый слой\n"
   ]
  },
  {
   "cell_type": "code",
   "execution_count": 97,
   "id": "da3bbcb5",
   "metadata": {},
   "outputs": [],
   "source": [
    "from sklearn.neural_network import MLPClassifier\n",
    "\n",
    "mlp_model = MLPClassifier(hidden_layer_sizes = (100,),\n",
    "                          solver = 'lbfgs',\n",
    "                          activation = 'logistic',\n",
    "                          max_iter=2000,\n",
    "                          random_state = 84,\n",
    "                          verbose=1,\n",
    "                          tol=1e-3\n",
    "                          )"
   ]
  },
  {
   "cell_type": "code",
   "execution_count": 98,
   "id": "b26efd53",
   "metadata": {},
   "outputs": [
    {
     "data": {
      "text/plain": [
       "MLPClassifier(activation='logistic', max_iter=2000, random_state=84,\n",
       "              solver='lbfgs', tol=0.001, verbose=1)"
      ]
     },
     "execution_count": 98,
     "metadata": {},
     "output_type": "execute_result"
    }
   ],
   "source": [
    "mlp_model.fit(X_strat_train_set, Y_strat_train_set)"
   ]
  },
  {
   "cell_type": "markdown",
   "id": "725dc6e4",
   "metadata": {},
   "source": [
    "## Ошибка на тренировочной выборке"
   ]
  },
  {
   "cell_type": "code",
   "execution_count": 99,
   "id": "dec8aa90",
   "metadata": {},
   "outputs": [
    {
     "data": {
      "text/plain": [
       "0.158375"
      ]
     },
     "execution_count": 99,
     "metadata": {},
     "output_type": "execute_result"
    }
   ],
   "source": [
    "y_train_predict = mlp_model.predict(X_strat_train_set)\n",
    "err_train  = np.mean(Y_strat_train_set  != y_train_predict)\n",
    "err_train"
   ]
  },
  {
   "cell_type": "code",
   "execution_count": 100,
   "id": "e0fee2bb",
   "metadata": {},
   "outputs": [
    {
     "data": {
      "text/plain": [
       "0.172"
      ]
     },
     "execution_count": 100,
     "metadata": {},
     "output_type": "execute_result"
    }
   ],
   "source": [
    "y_test_predict = mlp_model.predict(X_strat_test_set)\n",
    "err_test  = np.mean(Y_strat_test_set  != y_test_predict)\n",
    "err_test"
   ]
  },
  {
   "cell_type": "code",
   "execution_count": 101,
   "id": "dae45764",
   "metadata": {},
   "outputs": [
    {
     "data": {
      "image/png": "[encoded data removed]",
      "text/plain": [
       "<Figure size 720x432 with 2 Axes>"
      ]
     },
     "metadata": {
      "needs_background": "light"
     },
     "output_type": "display_data"
    }
   ],
   "source": [
    "from sklearn.metrics import confusion_matrix, f1_score\n",
    "plt.figure(figsize=(10,6))\n",
    "x=sns.heatmap(confusion_matrix(Y_strat_test_set, y_test_predict),annot=True, fmt='0.1f')\n",
    "plt.show()"
   ]
  },
  {
   "cell_type": "code",
   "execution_count": 102,
   "id": "b660accd",
   "metadata": {},
   "outputs": [
    {
     "data": {
      "text/plain": [
       "'F1 score  = 0.7109243697478991'"
      ]
     },
     "execution_count": 102,
     "metadata": {},
     "output_type": "execute_result"
    }
   ],
   "source": [
    "'F1 score  = {}'.format(f1_score(Y_strat_test_set, y_test_predict))"
   ]
  },
  {
   "cell_type": "markdown",
   "id": "ed4b4335",
   "metadata": {},
   "source": [
    "# Подбор параметра alpha"
   ]
  },
  {
   "cell_type": "code",
   "execution_count": 105,
   "id": "e7a86495",
   "metadata": {},
   "outputs": [
    {
     "name": "stderr",
     "output_type": "stream",
     "text": [
      "<ipython-input-105-7cfe6e09e003>:7: TqdmDeprecationWarning: This function will be removed in tqdm==5.0.0\n",
      "Please use `tqdm.notebook.tqdm` instead of `tqdm.tqdm_notebook`\n",
      "  for alpha in tqdm.tqdm_notebook(alpha_arr):\n"
     ]
    },
    {
     "data": {
      "application/vnd.jupyter.widget-view+json": {
       "model_id": "8aa24ea3751a4c9ebb582304cc586de8",
       "version_major": 2,
       "version_minor": 0
      },
      "text/plain": [
       "  0%|          | 0/9 [00:00<?, ?it/s]"
      ]
     },
     "metadata": {},
     "output_type": "display_data"
    }
   ],
   "source": [
    "alpha_arr = np.logspace(-3, 2, 9)\n",
    "test_err = []\n",
    "train_err = []\n",
    "train_acc = []\n",
    "test_acc = []\n",
    "\n",
    "for alpha in tqdm.tqdm_notebook(alpha_arr):\n",
    "    mlp_model = MLPClassifier(alpha = alpha, hidden_layer_sizes = (30,), \n",
    "                              solver = 'lbfgs', activation = 'logistic', max_iter=2000, random_state = 84)\n",
    "    mlp_model.fit(X_strat_train_set, Y_strat_train_set)\n",
    "\n",
    "    y_train_pred = mlp_model.predict(X_strat_train_set)\n",
    "    y_test_pred = mlp_model.predict(X_strat_test_set)\n",
    "    \n",
    "    train_err.append(np.mean(Y_strat_train_set != y_train_pred))\n",
    "    test_err.append(np.mean(Y_strat_test_set != y_test_pred))\n",
    "    train_acc.append(accuracy_score(Y_strat_train_set, y_train_pred))\n",
    "    test_acc.append(accuracy_score(Y_strat_test_set, y_test_pred))"
   ]
  },
  {
   "cell_type": "code",
   "execution_count": 106,
   "id": "e32502c6",
   "metadata": {
    "scrolled": true
   },
   "outputs": [
    {
     "data": {
      "text/plain": [
       "<matplotlib.legend.Legend at 0x10dbfa9d700>"
      ]
     },
     "execution_count": 106,
     "metadata": {},
     "output_type": "execute_result"
    },
    {
     "data": {
      "image/png": "[encoded data removed]",
      "text/plain": [
       "<Figure size 432x288 with 1 Axes>"
      ]
     },
     "metadata": {
      "needs_background": "light"
     },
     "output_type": "display_data"
    }
   ],
   "source": [
    "plt.semilogx(alpha_arr, train_err, 'b-o', label = 'train')\n",
    "plt.semilogx(alpha_arr, test_err, 'r-o', label = 'test')\n",
    "plt.xlim([np.min(alpha_arr), np.max(alpha_arr)])\n",
    "plt.title('Error vs. alpha')\n",
    "plt.xlabel('alpha')\n",
    "plt.ylabel('error')\n",
    "plt.legend()"
   ]
  },
  {
   "cell_type": "markdown",
   "id": "78aa7bad",
   "metadata": {},
   "source": [
    "### Найдем минимальное значение ошибки"
   ]
  },
  {
   "cell_type": "code",
   "execution_count": 107,
   "id": "d09a0967",
   "metadata": {},
   "outputs": [
    {
     "name": "stdout",
     "output_type": "stream",
     "text": [
      "0.095375 0.1705\n"
     ]
    }
   ],
   "source": [
    "min_train_err = np.min(train_err)\n",
    "min_test_err = np.min(test_err)\n",
    "print(min_train_err, min_test_err)"
   ]
  },
  {
   "cell_type": "markdown",
   "id": "5eaea779",
   "metadata": {},
   "source": [
    "### Теперь оптимальное alpha"
   ]
  },
  {
   "cell_type": "code",
   "execution_count": 108,
   "id": "cac1be82",
   "metadata": {},
   "outputs": [
    {
     "name": "stdout",
     "output_type": "stream",
     "text": [
      "[5.62341325]\n"
     ]
    }
   ],
   "source": [
    "alpha_opt = alpha_arr[test_err == min_test_err]\n",
    "print(alpha_opt)"
   ]
  },
  {
   "cell_type": "markdown",
   "id": "e7c4849f",
   "metadata": {},
   "source": [
    "### Классификатор при найденном оптимальном значении alpha:"
   ]
  },
  {
   "cell_type": "code",
   "execution_count": 109,
   "id": "232707bc",
   "metadata": {},
   "outputs": [
    {
     "name": "stdout",
     "output_type": "stream",
     "text": [
      "0.155625\n",
      "0.171\n"
     ]
    }
   ],
   "source": [
    "mlp_model = MLPClassifier(alpha = alpha_opt, hidden_layer_sizes = (100,),\n",
    "                          solver = 'lbfgs', activation = 'logistic', random_state = 42,max_iter=1000)\n",
    "mlp_model.fit(X_strat_train_set, Y_strat_train_set)\n",
    "\n",
    "y_train_pred = mlp_model.predict(X_strat_train_set)\n",
    "y_test_pred = mlp_model.predict(X_strat_test_set)\n",
    "print(np.mean(Y_strat_train_set != y_train_pred))\n",
    "print(np.mean(Y_strat_test_set != y_test_pred))"
   ]
  },
  {
   "cell_type": "markdown",
   "id": "5bd5f3d5",
   "metadata": {},
   "source": [
    "## Подберем оптимальное количество нейронов на скрытом слое"
   ]
  },
  {
   "cell_type": "code",
   "execution_count": 110,
   "id": "d5e6c870",
   "metadata": {},
   "outputs": [
    {
     "name": "stderr",
     "output_type": "stream",
     "text": [
      "<ipython-input-110-b4ac9b9ccc36>:9: TqdmDeprecationWarning: This function will be removed in tqdm==5.0.0\n",
      "Please use `tqdm.notebook.tqdm` instead of `tqdm.tqdm_notebook`\n",
      "  for neurons_count in tqdm.tqdm_notebook(neurons):\n"
     ]
    },
    {
     "data": {
      "application/vnd.jupyter.widget-view+json": {
       "model_id": "5800bcd7180147f3bd95fe9019636dfb",
       "version_major": 2,
       "version_minor": 0
      },
      "text/plain": [
       "  0%|          | 0/98 [00:00<?, ?it/s]"
      ]
     },
     "metadata": {},
     "output_type": "display_data"
    }
   ],
   "source": [
    "from sklearn.metrics import accuracy_score\n",
    "import tqdm\n",
    "neurons = np.arange(2,100,1,dtype = int)\n",
    "test_err = []\n",
    "train_err = []\n",
    "train_acc = []\n",
    "test_acc = []\n",
    "\n",
    "for neurons_count in tqdm.tqdm_notebook(neurons):\n",
    "    mlp_model = MLPClassifier(alpha=alpha_opt,hidden_layer_sizes = (neurons_count,), solver = 'lbfgs',  activation = 'logistic',\n",
    "                              max_iter=2000,random_state = 84,tol=1e-3)\n",
    "    mlp_model.fit(X_strat_train_set, Y_strat_train_set)\n",
    "\n",
    "    y_train_pred = mlp_model.predict(X_strat_train_set)\n",
    "    y_test_pred = mlp_model.predict(X_strat_test_set)\n",
    "    \n",
    "    train_err.append(np.mean(Y_strat_train_set != y_train_pred))\n",
    "    test_err.append(np.mean(Y_strat_test_set != y_test_pred))\n",
    "    train_acc.append(accuracy_score(Y_strat_train_set, y_train_pred))\n",
    "    test_acc.append(accuracy_score(Y_strat_test_set, y_test_pred))"
   ]
  },
  {
   "cell_type": "code",
   "execution_count": 111,
   "id": "5be33c9d",
   "metadata": {},
   "outputs": [
    {
     "data": {
      "text/plain": [
       "<matplotlib.legend.Legend at 0x10dbe0b31c0>"
      ]
     },
     "execution_count": 111,
     "metadata": {},
     "output_type": "execute_result"
    },
    {
     "data": {
      "image/png": "[encoded data removed]",
      "text/plain": [
       "<Figure size 432x288 with 1 Axes>"
      ]
     },
     "metadata": {
      "needs_background": "light"
     },
     "output_type": "display_data"
    }
   ],
   "source": [
    "plt.semilogx(neurons, train_err, 'b-o', label = 'train')\n",
    "plt.semilogx(neurons, test_err, 'r-o', label = 'test')\n",
    "plt.xlim([np.min(neurons), np.max(neurons)])\n",
    "plt.title('Error vs. neurons count')\n",
    "plt.xlabel('neurons count')\n",
    "plt.ylabel('error')\n",
    "plt.legend()"
   ]
  },
  {
   "cell_type": "code",
   "execution_count": 112,
   "id": "838de22d",
   "metadata": {},
   "outputs": [
    {
     "data": {
      "text/plain": [
       "<matplotlib.legend.Legend at 0x10dbe530400>"
      ]
     },
     "execution_count": 112,
     "metadata": {},
     "output_type": "execute_result"
    },
    {
     "data": {
      "image/png": "[encoded data removed]",
      "text/plain": [
       "<Figure size 432x288 with 1 Axes>"
      ]
     },
     "metadata": {
      "needs_background": "light"
     },
     "output_type": "display_data"
    }
   ],
   "source": [
    "plt.semilogx(neurons, train_acc, 'r-o', label = 'train')\n",
    "plt.semilogx(neurons, test_acc, 'b-o', label = 'test')\n",
    "plt.xlim([np.min(neurons), np.max(neurons)])\n",
    "plt.title('Accuracy vs. neurons count')\n",
    "plt.xlabel('neurons count')\n",
    "plt.ylabel('Accuracy')\n",
    "plt.legend()"
   ]
  },
  {
   "cell_type": "code",
   "execution_count": 113,
   "id": "5d1be4d6",
   "metadata": {},
   "outputs": [],
   "source": [
    "indexMax = np.argmax(test_acc)"
   ]
  },
  {
   "cell_type": "code",
   "execution_count": 116,
   "id": "9e32e2a5",
   "metadata": {},
   "outputs": [],
   "source": [
    "mlp_model = MLPClassifier(alpha=alpha_opt,hidden_layer_sizes =neurons[indexMax] , solver = 'lbfgs',  activation = 'logistic',\n",
    "                          max_iter=2000,random_state = 84,tol=1e-3)\n",
    "mlp_model.fit(X_strat_train_set, Y_strat_train_set)\n",
    "\n",
    "y_train_pred = mlp_model.predict(X_strat_train_set)\n",
    "y_test_pred = mlp_model.predict(X_strat_test_set)\n",
    "\n",
    "train_err.append(np.mean(Y_strat_train_set != y_train_pred))\n",
    "test_err.append(np.mean(Y_strat_test_set != y_test_pred))\n",
    "train_acc.append(accuracy_score(Y_strat_train_set, y_train_pred))\n",
    "test_acc.append(accuracy_score(Y_strat_test_set, y_test_pred))"
   ]
  },
  {
   "cell_type": "markdown",
   "id": "56b7ff69",
   "metadata": {},
   "source": [
    "# Ошибка на тестовой выборке"
   ]
  },
  {
   "cell_type": "code",
   "execution_count": 117,
   "id": "d8f9928b",
   "metadata": {},
   "outputs": [
    {
     "data": {
      "text/plain": [
       "0.1755"
      ]
     },
     "execution_count": 117,
     "metadata": {},
     "output_type": "execute_result"
    }
   ],
   "source": [
    "y_test_predict = mlp_model.predict(X_strat_test_set)\n",
    "err_test  = np.mean(Y_strat_test_set  != y_test_predict)\n",
    "err_test"
   ]
  },
  {
   "cell_type": "code",
   "execution_count": 119,
   "id": "ee614bf3",
   "metadata": {},
   "outputs": [
    {
     "data": {
      "text/plain": [
       "<sklearn.metrics._plot.confusion_matrix.ConfusionMatrixDisplay at 0x10dbe604dc0>"
      ]
     },
     "execution_count": 119,
     "metadata": {},
     "output_type": "execute_result"
    },
    {
     "data": {
      "image/png": "[encoded data removed]",
      "text/plain": [
       "<Figure size 432x288 with 2 Axes>"
      ]
     },
     "metadata": {
      "needs_background": "light"
     },
     "output_type": "display_data"
    }
   ],
   "source": [
    "from sklearn.metrics import plot_confusion_matrix\n",
    "plot_confusion_matrix(mlp_model, X_strat_test_set, Y_strat_test_set) "
   ]
  },
  {
   "cell_type": "markdown",
   "id": "a9742463",
   "metadata": {},
   "source": [
    "### Другие метрики качества"
   ]
  },
  {
   "cell_type": "code",
   "execution_count": 121,
   "id": "731d926d",
   "metadata": {},
   "outputs": [
    {
     "name": "stdout",
     "output_type": "stream",
     "text": [
      "              precision    recall  f1-score   support\n",
      "\n",
      "         0.0       0.86      0.89      0.87      1373\n",
      "         1.0       0.74      0.67      0.71       627\n",
      "\n",
      "    accuracy                           0.82      2000\n",
      "   macro avg       0.80      0.78      0.79      2000\n",
      "weighted avg       0.82      0.82      0.82      2000\n",
      "\n"
     ]
    }
   ],
   "source": [
    "from sklearn.metrics import classification_report\n",
    "print(classification_report(Y_strat_test_set, y_test_predict))"
   ]
  },
  {
   "cell_type": "markdown",
   "id": "daca0a8a",
   "metadata": {},
   "source": [
    "## Вывод:\n",
    "Была произведена попытка построения нейросети для решения поставленной задачи. Результат оказался схожим с тем, что было получено ранее. Даже немного лучше. Однако, существенно улучшить результат не удалось. Поэтому говорить о разумности использования данной модели для предсказания наступления страхового случая не приходится."
   ]
  },
  {
   "cell_type": "code",
   "execution_count": null,
   "id": "75309e79",
   "metadata": {},
   "outputs": [],
   "source": []
  }
 ],
 "metadata": {
  "kernelspec": {
   "display_name": "Python 3",
   "language": "python",
   "name": "python3"
  },
  "language_info": {
   "codemirror_mode": {
    "name": "ipython",
    "version": 3
   },
   "file_extension": ".py",
   "mimetype": "text/x-python",
   "name": "python",
   "nbconvert_exporter": "python",
   "pygments_lexer": "ipython3",
   "version": "3.8.8"
  }
 },
 "nbformat": 4,
 "nbformat_minor": 5
}
